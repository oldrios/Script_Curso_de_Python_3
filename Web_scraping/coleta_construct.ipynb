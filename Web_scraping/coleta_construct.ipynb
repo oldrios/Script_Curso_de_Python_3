{
 "cells": [
  {
   "cell_type": "code",
   "execution_count": null,
   "metadata": {},
   "outputs": [],
   "source": [
    "from selenium import webdriver\n",
    "from bs4 import BeautifulSoup as soup\n",
    "from time import sleep, time\n",
    "import pandas as pd\n",
    "from selenium.webdriver.common.keys import Keys\n",
    "from selenium.webdriver.common.by import By\n",
    "from selenium.webdriver.support.ui import WebDriverWait\n",
    "from selenium.webdriver.support import expected_conditions as EC\n",
    "from selenium.webdriver.common.action_chains import ActionChains\n",
    "\n",
    "\n",
    "\n",
    "class DataColector():\n",
    "    def __init__(self):\n",
    "        self.driver_path = 'chromedriver'\n",
    "        self.options = webdriver.ChromeOptions()\n",
    "        #        self.options.add_argument('user-data-dir=Perfil')\n",
    "        self.options.headless = True\n",
    "        self.chrome = webdriver.Chrome(\n",
    "            self.driver_path,\n",
    "            options=self.options\n",
    "        )\n",
    "    \n",
    "    def acessa(self, url):\n",
    "        self.chrome.get(url)\n",
    "    \n",
    "    def coleta_html(self):\n",
    "        html = soup(self.chrome.page_source, 'html.parser')\n",
    "        return html\n",
    "\n",
    "    def scroll(self):\n",
    "            scroll_pause_time = 3\n",
    "            # Get scroll height\n",
    "            last_height = self.chrome.execute_script(\"return document.body.scrollHeight\")\n",
    "            while True:\n",
    "                # Scroll down to bottom\n",
    "                self.chrome.execute_script(\"window.scrollTo(0, document.body.scrollHeight);\")\n",
    "                # Wait to load page\n",
    "                sleep(scroll_pause_time)\n",
    "                # Calculate new scroll height and compare with last scroll height\n",
    "                new_height = self.chrome.execute_script(\"return document.body.scrollHeight\")\n",
    "                if new_height == last_height:\n",
    "                    break\n",
    "                last_height = new_height    \n",
    "\n",
    "    def aguardar_por(self, xpath):\n",
    "        WebDriverWait(self.chrome, 30).until(\n",
    "            EC.visibility_of_element_located(\n",
    "                (By.XPATH, xpath)))\n",
    "        WebDriverWait(self.chrome, 30).until(\n",
    "            EC.element_to_be_clickable(\n",
    "                (By.XPATH, xpath)))\n",
    "\n",
    "    def sair(self):\n",
    "        self.chrome.quit()\n",
    "\n",
    "if __name__ == '__main__':\n",
    "    browser = DataColector()\n",
    "    browser.sair()"
   ]
  }
 ],
 "metadata": {
  "kernelspec": {
   "display_name": "Python 3.8.5 32-bit ('venv': venv)",
   "metadata": {
    "interpreter": {
     "hash": "4643370d907f1c389b8188c95ab1b87f3dc2826dc046a0b4810a45e35ea5bf33"
    }
   },
   "name": "Python 3.8.5 32-bit ('venv': venv)"
  },
  "language_info": {
   "codemirror_mode": {
    "name": "ipython",
    "version": 3
   },
   "file_extension": ".py",
   "mimetype": "text/x-python",
   "name": "python",
   "nbconvert_exporter": "python",
   "pygments_lexer": "ipython3",
   "version": "3.8.5-final"
  },
  "orig_nbformat": 2
 },
 "nbformat": 4,
 "nbformat_minor": 2
}
